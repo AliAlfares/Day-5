{
 "cells": [
  {
   "cell_type": "markdown",
   "metadata": {},
   "source": [
    "# Python_Lab_3\n"
   ]
  },
  {
   "cell_type": "markdown",
   "metadata": {},
   "source": [
    "### Task 1\n",
    "- Write a function named **'create_student_records'** that takes a list of tuples. Each tuple contains a student's name and their scores in three subjects. The function should return a list of dictionaries, where each dictionary represents a student with keys: name, subject1, subject2, subject3. Use list comprehension to create the list of dictionaries."
   ]
  },
  {
   "cell_type": "code",
   "execution_count": 8,
   "metadata": {},
   "outputs": [],
   "source": [
    "def create_student_records(student_tuples):\n",
    "    student_records = [\n",
    "        {'name': name, 'subject1': subj1, 'subject2': subj2, 'subject3': subj3}\n",
    "        for name, subj1, subj2, subj3 in student_tuples\n",
    "    ]\n",
    "    return student_records"
   ]
  },
  {
   "cell_type": "markdown",
   "metadata": {},
   "source": [
    "### Task 2\n",
    "- Write a function named **'filter_and_sort_students'** that takes the list of dictionaries from Question 1 and returns a sorted list of student names who have an average score of 80 or more across all subjects. Sort the names in alphabetical order."
   ]
  },
  {
   "cell_type": "code",
   "execution_count": 9,
   "metadata": {},
   "outputs": [],
   "source": [
    "def filter_and_sort_students(student_records):\n",
    " \n",
    "    def average_score(student):\n",
    "        return (student['subject1'] + student['subject2'] + student['subject3']) / 3.0\n",
    "\n",
    "    filtered_students = [\n",
    "        student['name']\n",
    "        for student in student_records\n",
    "        if average_score(student) >= 80\n",
    "    ]\n",
    "\n",
    "    sorted_names = sorted(filtered_students)\n",
    "    return sorted_names"
   ]
  },
  {
   "cell_type": "markdown",
   "metadata": {},
   "source": [
    "### Task 3\n",
    "- Write a function named **'get_product_info'** that prompts the user to enter information about a product. The function should ask for the product name, product price, and product quantity. If the user enters an invalid input (e.g., a non-numeric value for the price or quantity), the function should handle the error and prompt the user to enter the value again. Return a dictionary containing the product information."
   ]
  },
  {
   "cell_type": "code",
   "execution_count": 10,
   "metadata": {},
   "outputs": [],
   "source": [
    "def get_product_info():\n",
    "\n",
    "    while True:\n",
    "        productName = input(\"Enter the product name: \")\n",
    "       \n",
    "        while True:\n",
    "            try:\n",
    "                productPrice = float(input(\"Enter the product price: \"))\n",
    "                break\n",
    "            except:\n",
    "                print(\"Error, Enter the value again\")\n",
    "        while True:\n",
    "            try:\n",
    "                productQuantity = int(input(\"Enter the product quantity: \"))\n",
    "                break\n",
    "            except:\n",
    "                print(\"Error, Enter the value again\")\n",
    "        break\n",
    "\n",
    "    product_info = {\n",
    "        'name': productName,\n",
    "        'price': productPrice,\n",
    "        'quantity': productQuantity\n",
    "    }\n",
    "\n",
    "    return product_info"
   ]
  },
  {
   "cell_type": "markdown",
   "metadata": {},
   "source": [
    "### Task 4\n",
    "- Write a function named **'get_even_numbers'** that takes a list of integers and returns a list of even numbers using list comprehension."
   ]
  },
  {
   "cell_type": "code",
   "execution_count": 11,
   "metadata": {},
   "outputs": [],
   "source": [
    "def get_even_numbers(numbers):\n",
    "    even_numbers = [num for num in numbers if num % 2 == 0]\n",
    "    return even_numbers"
   ]
  },
  {
   "cell_type": "markdown",
   "metadata": {},
   "source": [
    "### Task 5\n",
    "- Write a function named **'pair_elements'** that takes two lists of equal length as parameters and returns a list of tuples, where each tuple contains corresponding elements from the two lists. Use the zip function to achieve this."
   ]
  },
  {
   "cell_type": "markdown",
   "metadata": {},
   "source": []
  },
  {
   "cell_type": "code",
   "execution_count": 12,
   "metadata": {},
   "outputs": [],
   "source": [
    "def pair_elements(list1, list2):\n",
    "    paired_elements = list(zip(list1, list2))\n",
    "    return paired_elements"
   ]
  },
  {
   "cell_type": "markdown",
   "metadata": {},
   "source": [
    "### Task 6\n",
    "- Write a function named **'square_dict_lambda'** that takes a list of integers and returns a dictionary where the keys are the integers and the values are their squares. Use a lambda function within a dictionary comprehension to achieve this."
   ]
  },
  {
   "cell_type": "code",
   "execution_count": 13,
   "metadata": {},
   "outputs": [],
   "source": [
    "def square_dict_lambda(numbers):\n",
    "    squared_dict = {num: (lambda x: x**2)(num) for num in numbers}\n",
    "    return squared_dict"
   ]
  }
 ],
 "metadata": {
  "kernelspec": {
   "display_name": "Python 3 (ipykernel)",
   "language": "python",
   "name": "python3"
  },
  "language_info": {
   "codemirror_mode": {
    "name": "ipython",
    "version": 3
   },
   "file_extension": ".py",
   "mimetype": "text/x-python",
   "name": "python",
   "nbconvert_exporter": "python",
   "pygments_lexer": "ipython3",
   "version": "3.9.13"
  }
 },
 "nbformat": 4,
 "nbformat_minor": 2
}
